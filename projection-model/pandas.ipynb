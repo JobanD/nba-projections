{
 "cells": [
  {
   "cell_type": "code",
   "execution_count": 1,
   "id": "961e4799",
   "metadata": {},
   "outputs": [],
   "source": [
    "import pandas as pd"
   ]
  },
  {
   "cell_type": "markdown",
   "id": "2fa9f525",
   "metadata": {},
   "source": [
    "Creating a Dataframe"
   ]
  },
  {
   "cell_type": "code",
   "execution_count": 3,
   "id": "91f14303",
   "metadata": {},
   "outputs": [],
   "source": [
    "df = pd.DataFrame()"
   ]
  },
  {
   "cell_type": "code",
   "execution_count": null,
   "id": "19fb74f5",
   "metadata": {},
   "outputs": [],
   "source": []
  },
  {
   "cell_type": "code",
   "execution_count": 4,
   "id": "5705038a",
   "metadata": {},
   "outputs": [],
   "source": [
    "okc_dict = {\n",
    "    'first_name': ['Shai', 'Lugentz', 'Alexsej', 'Darius'],\n",
    "    'last_name': ['Gilgeous-Alexander', 'Dort', 'Pokusevski', 'Bazley'],\n",
    "    'ppg': [23.7, 14.0, 8.2, 13.7],\n",
    "    'apg': [5.9, 1.7, 2.2, 1.8],\n",
    "    'rpg': [4.7, 3.6, 4.7, 7.2]\n",
    "}"
   ]
  },
  {
   "cell_type": "code",
   "execution_count": 5,
   "id": "cb3c7980",
   "metadata": {},
   "outputs": [
    {
     "data": {
      "text/html": [
       "<div>\n",
       "<style scoped>\n",
       "    .dataframe tbody tr th:only-of-type {\n",
       "        vertical-align: middle;\n",
       "    }\n",
       "\n",
       "    .dataframe tbody tr th {\n",
       "        vertical-align: top;\n",
       "    }\n",
       "\n",
       "    .dataframe thead th {\n",
       "        text-align: right;\n",
       "    }\n",
       "</style>\n",
       "<table border=\"1\" class=\"dataframe\">\n",
       "  <thead>\n",
       "    <tr style=\"text-align: right;\">\n",
       "      <th></th>\n",
       "      <th>first_name</th>\n",
       "      <th>last_name</th>\n",
       "      <th>ppg</th>\n",
       "      <th>apg</th>\n",
       "      <th>rpg</th>\n",
       "    </tr>\n",
       "  </thead>\n",
       "  <tbody>\n",
       "    <tr>\n",
       "      <th>0</th>\n",
       "      <td>Shai</td>\n",
       "      <td>Gilgeous-Alexander</td>\n",
       "      <td>23.7</td>\n",
       "      <td>5.9</td>\n",
       "      <td>4.7</td>\n",
       "    </tr>\n",
       "    <tr>\n",
       "      <th>1</th>\n",
       "      <td>Lugentz</td>\n",
       "      <td>Dort</td>\n",
       "      <td>14.0</td>\n",
       "      <td>1.7</td>\n",
       "      <td>3.6</td>\n",
       "    </tr>\n",
       "    <tr>\n",
       "      <th>2</th>\n",
       "      <td>Alexsej</td>\n",
       "      <td>Pokusevski</td>\n",
       "      <td>8.2</td>\n",
       "      <td>2.2</td>\n",
       "      <td>4.7</td>\n",
       "    </tr>\n",
       "    <tr>\n",
       "      <th>3</th>\n",
       "      <td>Darius</td>\n",
       "      <td>Bazley</td>\n",
       "      <td>13.7</td>\n",
       "      <td>1.8</td>\n",
       "      <td>7.2</td>\n",
       "    </tr>\n",
       "  </tbody>\n",
       "</table>\n",
       "</div>"
      ],
      "text/plain": [
       "  first_name           last_name   ppg  apg  rpg\n",
       "0       Shai  Gilgeous-Alexander  23.7  5.9  4.7\n",
       "1    Lugentz                Dort  14.0  1.7  3.6\n",
       "2    Alexsej          Pokusevski   8.2  2.2  4.7\n",
       "3     Darius              Bazley  13.7  1.8  7.2"
      ]
     },
     "execution_count": 5,
     "metadata": {},
     "output_type": "execute_result"
    }
   ],
   "source": [
    "pd.DataFrame(okc_dict)"
   ]
  },
  {
   "cell_type": "code",
   "execution_count": 6,
   "id": "84f1dd55",
   "metadata": {},
   "outputs": [],
   "source": [
    "df = pd.DataFrame(okc_dict, index=[1,2,3,4])"
   ]
  },
  {
   "cell_type": "code",
   "execution_count": 7,
   "id": "ffe4580a",
   "metadata": {},
   "outputs": [
    {
     "name": "stdout",
     "output_type": "stream",
     "text": [
      "  first_name           last_name   ppg  apg  rpg\n",
      "1       Shai  Gilgeous-Alexander  23.7  5.9  4.7\n",
      "2    Lugentz                Dort  14.0  1.7  3.6\n",
      "3    Alexsej          Pokusevski   8.2  2.2  4.7\n",
      "4     Darius              Bazley  13.7  1.8  7.2\n"
     ]
    }
   ],
   "source": [
    "print(df)"
   ]
  },
  {
   "cell_type": "code",
   "execution_count": 8,
   "id": "7ada3c9b",
   "metadata": {},
   "outputs": [],
   "source": [
    "stats = [['Shai', 4, 6], ['Lugentz', 2, 3], ['Alexsej', 4, 4]]"
   ]
  },
  {
   "cell_type": "code",
   "execution_count": 9,
   "id": "19a79c60",
   "metadata": {},
   "outputs": [
    {
     "data": {
      "text/html": [
       "<div>\n",
       "<style scoped>\n",
       "    .dataframe tbody tr th:only-of-type {\n",
       "        vertical-align: middle;\n",
       "    }\n",
       "\n",
       "    .dataframe tbody tr th {\n",
       "        vertical-align: top;\n",
       "    }\n",
       "\n",
       "    .dataframe thead th {\n",
       "        text-align: right;\n",
       "    }\n",
       "</style>\n",
       "<table border=\"1\" class=\"dataframe\">\n",
       "  <thead>\n",
       "    <tr style=\"text-align: right;\">\n",
       "      <th></th>\n",
       "      <th>player</th>\n",
       "      <th>oreb</th>\n",
       "      <th>dreb</th>\n",
       "    </tr>\n",
       "  </thead>\n",
       "  <tbody>\n",
       "    <tr>\n",
       "      <th>0</th>\n",
       "      <td>Shai</td>\n",
       "      <td>4</td>\n",
       "      <td>6</td>\n",
       "    </tr>\n",
       "    <tr>\n",
       "      <th>1</th>\n",
       "      <td>Lugentz</td>\n",
       "      <td>2</td>\n",
       "      <td>3</td>\n",
       "    </tr>\n",
       "    <tr>\n",
       "      <th>2</th>\n",
       "      <td>Alexsej</td>\n",
       "      <td>4</td>\n",
       "      <td>4</td>\n",
       "    </tr>\n",
       "  </tbody>\n",
       "</table>\n",
       "</div>"
      ],
      "text/plain": [
       "    player  oreb  dreb\n",
       "0     Shai     4     6\n",
       "1  Lugentz     2     3\n",
       "2  Alexsej     4     4"
      ]
     },
     "execution_count": 9,
     "metadata": {},
     "output_type": "execute_result"
    }
   ],
   "source": [
    "pd.DataFrame(stats, columns = ['player', 'oreb', 'dreb'])"
   ]
  },
  {
   "cell_type": "code",
   "execution_count": null,
   "id": "23a19812",
   "metadata": {},
   "outputs": [],
   "source": []
  }
 ],
 "metadata": {
  "kernelspec": {
   "display_name": "Python 3 (ipykernel)",
   "language": "python",
   "name": "python3"
  },
  "language_info": {
   "codemirror_mode": {
    "name": "ipython",
    "version": 3
   },
   "file_extension": ".py",
   "mimetype": "text/x-python",
   "name": "python",
   "nbconvert_exporter": "python",
   "pygments_lexer": "ipython3",
   "version": "3.9.6"
  }
 },
 "nbformat": 4,
 "nbformat_minor": 5
}
